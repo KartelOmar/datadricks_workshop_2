{
 "cells": [
  {
   "cell_type": "code",
   "execution_count": 0,
   "metadata": {
    "application/vnd.databricks.v1+cell": {
     "cellMetadata": {},
     "inputWidgets": {},
     "nuid": "52829f98-907e-42f0-b492-207966edb9c6",
     "showTitle": false,
     "tableResultSettingsMap": {},
     "title": ""
    }
   },
   "outputs": [],
   "source": [
    "%sql\n",
    "CREATE OR REPLACE TABLE customers_silver AS\n",
    "SELECT DISTINCT customer_id,\n",
    "       TRIM(name) AS name,\n",
    "       CASE WHEN age IS NULL OR age > 100 THEN NULL ELSE age END AS age,\n",
    "       CASE WHEN salary IS NULL OR salary > 200000 THEN NULL ELSE salary END AS salary,\n",
    "       CASE WHEN email RLIKE '^[^@]+@[^@]+\\\\.[^@]+$' THEN email ELSE NULL END AS email,\n",
    "       reg_date\n",
    "FROM customers_bronze;"
   ]
  },
  {
   "cell_type": "code",
   "execution_count": 0,
   "metadata": {
    "application/vnd.databricks.v1+cell": {
     "cellMetadata": {},
     "inputWidgets": {},
     "nuid": "7cc07d48-0dcc-4d65-876b-c229b0993b9a",
     "showTitle": false,
     "tableResultSettingsMap": {},
     "title": ""
    }
   },
   "outputs": [],
   "source": [
    "%sql\n",
    "select * from books_silver limit 10"
   ]
  }
 ],
 "metadata": {
  "application/vnd.databricks.v1+notebook": {
   "computePreferences": null,
   "dashboards": [],
   "environmentMetadata": {
    "base_environment": "",
    "environment_version": "3"
   },
   "inputWidgetPreferences": null,
   "language": "python",
   "notebookMetadata": {
    "pythonIndentUnit": 4
   },
   "notebookName": "customers_silver",
   "widgets": {}
  },
  "language_info": {
   "name": "python"
  }
 },
 "nbformat": 4,
 "nbformat_minor": 0
}
